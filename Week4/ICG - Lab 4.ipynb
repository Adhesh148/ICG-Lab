{
 "cells": [
  {
   "cell_type": "markdown",
   "metadata": {},
   "source": [
    "# ICG Lab Exercise - 4 "
   ]
  },
  {
   "cell_type": "markdown",
   "metadata": {},
   "source": [
    "### Import Libraries"
   ]
  },
  {
   "cell_type": "code",
   "execution_count": 1,
   "metadata": {},
   "outputs": [],
   "source": [
    "import numpy as np\n",
    "import cv2"
   ]
  },
  {
   "cell_type": "markdown",
   "metadata": {},
   "source": [
    "### Read the Image"
   ]
  },
  {
   "cell_type": "code",
   "execution_count": 2,
   "metadata": {},
   "outputs": [
    {
     "data": {
      "text/plain": [
       "(225, 400, 3)"
      ]
     },
     "execution_count": 2,
     "metadata": {},
     "output_type": "execute_result"
    }
   ],
   "source": [
    "# Read the original image\n",
    "img = cv2.imread(\"lena.png\")\n",
    "img.shape"
   ]
  },
  {
   "cell_type": "code",
   "execution_count": 10,
   "metadata": {},
   "outputs": [],
   "source": [
    "# Display the image read - To close the image press on any keyboard key (dont press on close button)\n",
    "cv2.imwrite(\"output/original_lena.png\",img)\n",
    "cv2.imshow(\"image\",img)\n",
    "cv2.waitKey(0)\n",
    "cv2.destroyAllWindows()"
   ]
  },
  {
   "cell_type": "markdown",
   "metadata": {},
   "source": [
    "### Convert the Color Image to Gray Scale"
   ]
  },
  {
   "cell_type": "markdown",
   "metadata": {},
   "source": [
    "<p style=\"font-size:15px;\">The color image is converted to gray scale using the formula:</p>\n",
    "<p style=\"margin-left:40px;\">f'(x,y) = (0.299r(x,y) + 0.587g(x,y) + 0.114b(x,y)) , </p>\n",
    "<p>where the input image f(x,y) = (r(x,y), g(x,y), b(x,y))</p>"
   ]
  },
  {
   "cell_type": "code",
   "execution_count": 11,
   "metadata": {},
   "outputs": [],
   "source": [
    "# Initialise a empty (row*col) matrix\n",
    "gray_scale_img = np.zeros((img.shape[:2]),dtype=int)\n",
    "# Apply the formula to convert to gray scale\n",
    "gray_scale_img = 0.299*img[:,:,2] + 0.587*img[:,:,1] + 0.114*img[:,:,0]"
   ]
  },
  {
   "cell_type": "code",
   "execution_count": 12,
   "metadata": {},
   "outputs": [],
   "source": [
    "# Convert the dtype - necessary to be able to display the image\n",
    "gray_scale_img = gray_scale_img.astype(np.uint8)"
   ]
  },
  {
   "cell_type": "code",
   "execution_count": 13,
   "metadata": {},
   "outputs": [],
   "source": [
    "# Display the gray scale image\n",
    "cv2.imwrite(\"output/gray_scale.png\",gray_scale_img)\n",
    "cv2.imshow(\"gray_1\",gray_scale_img)\n",
    "cv2.waitKey(0)\n",
    "cv2.destroyAllWindows()"
   ]
  },
  {
   "cell_type": "markdown",
   "metadata": {},
   "source": [
    "## Bi-Level Printer P1"
   ]
  },
  {
   "cell_type": "markdown",
   "metadata": {},
   "source": [
    "### Convert the Gray Scale Image to Binary Image using Thresholding"
   ]
  },
  {
   "cell_type": "markdown",
   "metadata": {},
   "source": [
    "<p style=\"font-size:15px;\">The gray scale image is converted to binary image using the following threshold algorithm:</p>\n",
    "<p style=\"margin-left:40px;\">if f'(x,y)<=127 then B1(x,y) =  0, <br> else B1(x,y) = 255 </p>"
   ]
  },
  {
   "cell_type": "code",
   "execution_count": 14,
   "metadata": {},
   "outputs": [],
   "source": [
    "# Make a copy of the gray sclae image\n",
    "binary_img_1 = np.copy(gray_scale_img)\n",
    "# Apply the threshold parameters to the matrix\n",
    "binary_img_1[binary_img_1 <= 127] = 0\n",
    "binary_img_1[binary_img_1!=0] = 255"
   ]
  },
  {
   "cell_type": "code",
   "execution_count": 15,
   "metadata": {},
   "outputs": [],
   "source": [
    "# Once again convert the dtype\n",
    "binary_img_1 = binary_img_1.astype(np.uint8)"
   ]
  },
  {
   "cell_type": "code",
   "execution_count": 16,
   "metadata": {},
   "outputs": [],
   "source": [
    "# Display the binary image\n",
    "cv2.imwrite(\"output/binary_P1.png\",binary_img_1)\n",
    "cv2.imshow(\"binary_1\",binary_img_1)\n",
    "cv2.waitKey(0)\n",
    "cv2.destroyAllWindows()"
   ]
  },
  {
   "cell_type": "markdown",
   "metadata": {},
   "source": [
    "### Find the Local Average Absolute Error Between Gray Scale Image and Binary Image"
   ]
  },
  {
   "cell_type": "code",
   "execution_count": null,
   "metadata": {},
   "outputs": [],
   "source": []
  },
  {
   "cell_type": "markdown",
   "metadata": {},
   "source": [
    "##  Bi-Level Printer P2"
   ]
  },
  {
   "cell_type": "markdown",
   "metadata": {},
   "source": [
    "### Convert the Gray Scale Image to Binary Image using Floyd-Steinberg Error Diffusion Algorithm"
   ]
  },
  {
   "cell_type": "code",
   "execution_count": 17,
   "metadata": {},
   "outputs": [],
   "source": [
    "# Make a copy of the gray scale image\n",
    "binary_img_2 = np.copy(gray_scale_img).astype(np.float32)"
   ]
  },
  {
   "cell_type": "code",
   "execution_count": 18,
   "metadata": {},
   "outputs": [],
   "source": [
    "# Floyd-Steinberg Error Diffusion\n",
    "for i in range(gray_scale_img.shape[0]-1):\n",
    "    for j in range(1,gray_scale_img.shape[1]-1):\n",
    "        old_pixel = binary_img_2[i][j]\n",
    "        new_pixel = round(old_pixel/255)  * 255;\n",
    "        binary_img_2[i][j] = new_pixel\n",
    "        error = old_pixel - new_pixel\n",
    "        binary_img_2[i+1][j] = binary_img_2[i+1][j] + 3/8 * error\n",
    "        binary_img_2[i+1][j+1] = binary_img_2[i+1][j+1] + 2/8 * error\n",
    "        binary_img_2[i][j+1] = binary_img_2[i][j+1] + 3/8 * error"
   ]
  },
  {
   "cell_type": "code",
   "execution_count": 19,
   "metadata": {},
   "outputs": [],
   "source": [
    "# Thresholding\n",
    "binary_img_2[binary_img_2 <= 127] = 0\n",
    "binary_img_2[binary_img_2!=0] = 255"
   ]
  },
  {
   "cell_type": "code",
   "execution_count": 20,
   "metadata": {},
   "outputs": [],
   "source": [
    "binary_img_2 = binary_img_2.astype(np.uint8)"
   ]
  },
  {
   "cell_type": "code",
   "execution_count": 21,
   "metadata": {},
   "outputs": [],
   "source": [
    "# Display the binary image\n",
    "cv2.imwrite(\"output/binary_P2.png\",binary_img_2)\n",
    "cv2.imshow(\"binary_2\",binary_img_2)\n",
    "cv2.waitKey(0)\n",
    "cv2.destroyAllWindows()"
   ]
  },
  {
   "cell_type": "markdown",
   "metadata": {},
   "source": [
    "### Find the Local Average Absolute Error Between Gray Scale Image and Binary Image"
   ]
  },
  {
   "cell_type": "code",
   "execution_count": null,
   "metadata": {},
   "outputs": [],
   "source": []
  }
 ],
 "metadata": {
  "kernelspec": {
   "display_name": "Python 3",
   "language": "python",
   "name": "python3"
  },
  "language_info": {
   "codemirror_mode": {
    "name": "ipython",
    "version": 3
   },
   "file_extension": ".py",
   "mimetype": "text/x-python",
   "name": "python",
   "nbconvert_exporter": "python",
   "pygments_lexer": "ipython3",
   "version": "3.7.5"
  }
 },
 "nbformat": 4,
 "nbformat_minor": 2
}
